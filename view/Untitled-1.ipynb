{
 "cells": [
  {
   "cell_type": "code",
   "execution_count": 3,
   "metadata": {},
   "outputs": [
    {
     "name": "stdout",
     "output_type": "stream",
     "text": [
      "    user_ID Pet_ID  Pet_Name   姓名        毛孩生日\n",
      "0       AF1    CK1     Abbas  雪蓮婷  2018-11-15\n",
      "143     AF1    CK2    Sydnee  雪蓮婷  2019-07-27\n",
      "247     AF2    CK3     Aegle  海雯綺  2013-09-03\n",
      "363     AF2    CK4  Tristian  海雯綺  2015-05-10\n",
      "475     AF2    CK5      Dane  海雯綺  2019-11-09\n",
      "594     AF3    CK6    Melany  劉俐彤  2022-01-03\n"
     ]
    },
    {
     "data": {
      "text/plain": [
       "False"
      ]
     },
     "execution_count": 3,
     "metadata": {},
     "output_type": "execute_result"
    }
   ],
   "source": [
    "from view.load_db import load_files\n",
    "_, _,dataf,_ = load_files()\n",
    "data = dataf[['user_ID','Pet_ID','Pet_Name','姓名','毛孩生日']].drop_duplicates(['user_ID','Pet_ID'],keep='first')\n",
    "print(data)\n",
    "data.empty"
   ]
  }
 ],
 "metadata": {
  "kernelspec": {
   "display_name": "base",
   "language": "python",
   "name": "python3"
  },
  "language_info": {
   "codemirror_mode": {
    "name": "ipython",
    "version": 3
   },
   "file_extension": ".py",
   "mimetype": "text/x-python",
   "name": "python",
   "nbconvert_exporter": "python",
   "pygments_lexer": "ipython3",
   "version": "3.9.13"
  },
  "orig_nbformat": 4
 },
 "nbformat": 4,
 "nbformat_minor": 2
}
